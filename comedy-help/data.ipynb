{
 "cells": [
  {
   "cell_type": "markdown",
   "id": "30d30b35-9da9-4c82-8612-680777b1c28b",
   "metadata": {},
   "source": [
    "### Data\n",
    "\n",
    "I will use the foursquare API to get the list of comedy clubs in Toronto city\n",
    "CategoryId for Comedy Clubs 4bf58dd8d48988d18e941735\n",
    "\n",
    "https://api.foursquare.com/v2/venues/search?client_id=XXXX&client_secret=XXXX&near=Toronto&categoryId=4bf58dd8d48988d18e941735&v=20210429\n",
    "\n",
    "Comedy Clubs Data will contain:\n",
    "The name of the club, the address, and the latitute and longitude\n",
    "\n",
    "|Name|Address|Latitude|Longitude|\n",
    "\n",
    "I will use also the Data from Toronto open data site to get the data about Toronto neighborhoods https://open.toronto.ca/dataset/neighbourhood-profiles/\n",
    "\n",
    "The Data will have information about Toronto neighborhoods,youth numbers, income \n",
    "\n",
    "I will also the Data from  https://open.toronto.ca/dataset/neighbourhood-crime-rates/ to get the data about the crimes rates in toronto\n",
    "\n",
    "Data:\n",
    "\n",
    "|Neighborhood|Income|Youth Numbers|Crimes|\n"
   ]
  },
  {
   "cell_type": "code",
   "execution_count": null,
   "id": "3eaad915-647b-4218-8663-d84a8b0cf297",
   "metadata": {},
   "outputs": [],
   "source": []
  },
  {
   "cell_type": "code",
   "execution_count": null,
   "id": "040f2667-cd14-4825-a8b5-ee9d0ac1b046",
   "metadata": {},
   "outputs": [],
   "source": []
  }
 ],
 "metadata": {
  "kernelspec": {
   "display_name": "Python 3",
   "language": "python",
   "name": "python3"
  },
  "language_info": {
   "codemirror_mode": {
    "name": "ipython",
    "version": 3
   },
   "file_extension": ".py",
   "mimetype": "text/x-python",
   "name": "python",
   "nbconvert_exporter": "python",
   "pygments_lexer": "ipython3",
   "version": "3.8.8"
  }
 },
 "nbformat": 4,
 "nbformat_minor": 5
}
