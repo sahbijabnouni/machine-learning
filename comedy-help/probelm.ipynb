{
 "cells": [
  {
   "cell_type": "markdown",
   "id": "361bbdb3-c606-4345-9235-3b61941df2c7",
   "metadata": {},
   "source": [
    "### Business Problem\n",
    "\n",
    "*Comedy Help* is a company that owns Comedy clubs around the world and also manages Comedy festivals. Comedy Help is working with the City of *Toronto* to found the first Comedy festival in Toronto destined for youth from 15 to 24 who live in low-income areas. The goal is to use the festival to discover comedy-talented teenagers and use the comedy for educating the youth about social problems like (Drug usage, unprotected sex, inequality, etc.), throw a set of comedy shows and classes.\n",
    "\n",
    "**The program**: Laughing helps\n",
    "\n",
    "**The Problem**: Find a place with a high number of youth and low-income and an increased number of crimes (assaults) and have no access to comedy (No comedy clubs nearby) and found a Comedy Festival destined for the youth in this area\n",
    "\n",
    "**Audience**: Youth (15-24) in a lowest-income neighborhood\n",
    "\n",
    "**Stakeholder**: City of Toronto\n",
    "\n"
   ]
  },
  {
   "cell_type": "code",
   "execution_count": null,
   "id": "f4f16403-b18b-4cf0-a476-338c67e567f5",
   "metadata": {},
   "outputs": [],
   "source": []
  }
 ],
 "metadata": {
  "kernelspec": {
   "display_name": "Python 3",
   "language": "python",
   "name": "python3"
  },
  "language_info": {
   "codemirror_mode": {
    "name": "ipython",
    "version": 3
   },
   "file_extension": ".py",
   "mimetype": "text/x-python",
   "name": "python",
   "nbconvert_exporter": "python",
   "pygments_lexer": "ipython3",
   "version": "3.8.8"
  }
 },
 "nbformat": 4,
 "nbformat_minor": 5
}
