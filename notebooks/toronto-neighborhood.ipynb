{
 "cells": [
  {
   "cell_type": "code",
   "execution_count": 421,
   "id": "5f43cc87-3a0a-4925-9e3b-1e6a5d32eeca",
   "metadata": {},
   "outputs": [],
   "source": [
    "import requests\n",
    "import urllib.request\n",
    "import time\n",
    "from bs4 import BeautifulSoup,NavigableString\n",
    "import numpy as np\n",
    "import pandas as pd\n",
    "from urllib.request import urlopen\n"
   ]
  },
  {
   "cell_type": "markdown",
   "id": "688568ad-4845-499f-ac42-642ec76a0e59",
   "metadata": {},
   "source": [
    "### Create a Soup object from the Toronto Postal Code Url"
   ]
  },
  {
   "cell_type": "code",
   "execution_count": 422,
   "id": "3ffecfd1-1c4a-4269-8553-0ede66c79624",
   "metadata": {},
   "outputs": [],
   "source": [
    "url = 'https://en.wikipedia.org/wiki/List_of_postal_codes_of_Canada:_M'\n",
    "html = urlopen(url) \n",
    "soup = BeautifulSoup(html, 'html.parser')"
   ]
  },
  {
   "cell_type": "markdown",
   "id": "bd3253b1-cc61-4bd8-83dc-f7653ebb109f",
   "metadata": {},
   "source": [
    "### Create a DataFrame with the 'PostalCode','Borough','Neighborhood' columns"
   ]
  },
  {
   "cell_type": "code",
   "execution_count": 423,
   "id": "d6beba82-cae8-47f9-90e9-deb56843db51",
   "metadata": {},
   "outputs": [],
   "source": [
    "df = pd.DataFrame(columns=['PostalCode','Borough','Neighborhood'])"
   ]
  },
  {
   "cell_type": "markdown",
   "id": "8ef9f3fd-6732-4086-a796-921461a4f304",
   "metadata": {},
   "source": [
    "### Scrap the postal code page and append the data in the DataFrame"
   ]
  },
  {
   "cell_type": "code",
   "execution_count": 424,
   "id": "bd4fd342-30fc-4540-b865-b271de0cf704",
   "metadata": {},
   "outputs": [],
   "source": [
    "data = []\n",
    "table = soup.find('table', attrs={'rules':'all'})\n",
    "table_body = table.find('tbody')\n",
    "\n",
    "rows = table_body.find_all('tr')\n",
    "for row in rows:\n",
    "    cols = row.find_all('td')\n",
    "    for col in cols:\n",
    "        postal_code=col.find('b').text\n",
    "        a=col.find('a')\n",
    "        if a:\n",
    "            bourough=a.text\n",
    "            if bourough:\n",
    "                content=col.find('span').text.replace(')','')\n",
    "                content=content.split('(')[1]\n",
    "                neighborhood=content.replace('/',',')\n",
    "                df = df.append({'PostalCode': postal_code,'Borough':bourough,'Neighborhood':neighborhood},ignore_index=True)"
   ]
  },
  {
   "cell_type": "code",
   "execution_count": 425,
   "id": "264dc58d-2fcf-4c0f-b516-660792e0400f",
   "metadata": {},
   "outputs": [
    {
     "data": {
      "text/html": [
       "<div>\n",
       "<style scoped>\n",
       "    .dataframe tbody tr th:only-of-type {\n",
       "        vertical-align: middle;\n",
       "    }\n",
       "\n",
       "    .dataframe tbody tr th {\n",
       "        vertical-align: top;\n",
       "    }\n",
       "\n",
       "    .dataframe thead th {\n",
       "        text-align: right;\n",
       "    }\n",
       "</style>\n",
       "<table border=\"1\" class=\"dataframe\">\n",
       "  <thead>\n",
       "    <tr style=\"text-align: right;\">\n",
       "      <th></th>\n",
       "      <th>PostalCode</th>\n",
       "      <th>Borough</th>\n",
       "      <th>Neighborhood</th>\n",
       "    </tr>\n",
       "  </thead>\n",
       "  <tbody>\n",
       "    <tr>\n",
       "      <th>0</th>\n",
       "      <td>M3A</td>\n",
       "      <td>North York</td>\n",
       "      <td>Parkwoods</td>\n",
       "    </tr>\n",
       "    <tr>\n",
       "      <th>1</th>\n",
       "      <td>M4A</td>\n",
       "      <td>North York</td>\n",
       "      <td>Victoria Village</td>\n",
       "    </tr>\n",
       "    <tr>\n",
       "      <th>2</th>\n",
       "      <td>M5A</td>\n",
       "      <td>Downtown Toronto</td>\n",
       "      <td>Regent Park , Harbourfront</td>\n",
       "    </tr>\n",
       "    <tr>\n",
       "      <th>3</th>\n",
       "      <td>M6A</td>\n",
       "      <td>North York</td>\n",
       "      <td>Lawrence Manor , Lawrence Heights</td>\n",
       "    </tr>\n",
       "    <tr>\n",
       "      <th>4</th>\n",
       "      <td>M7A</td>\n",
       "      <td>Queen's Park</td>\n",
       "      <td>Ontario Provincial Government</td>\n",
       "    </tr>\n",
       "  </tbody>\n",
       "</table>\n",
       "</div>"
      ],
      "text/plain": [
       "  PostalCode           Borough                       Neighborhood\n",
       "0        M3A        North York                          Parkwoods\n",
       "1        M4A        North York                   Victoria Village\n",
       "2        M5A  Downtown Toronto         Regent Park , Harbourfront\n",
       "3        M6A        North York  Lawrence Manor , Lawrence Heights\n",
       "4        M7A      Queen's Park      Ontario Provincial Government"
      ]
     },
     "execution_count": 425,
     "metadata": {},
     "output_type": "execute_result"
    }
   ],
   "source": [
    "df.head()"
   ]
  },
  {
   "cell_type": "markdown",
   "id": "de5590d5-92c5-4367-bd5a-0153be16b13c",
   "metadata": {},
   "source": [
    "### Remove bad data"
   ]
  },
  {
   "cell_type": "code",
   "execution_count": 426,
   "id": "6ee55077-04eb-46f4-b971-ca8e6aeb4e1e",
   "metadata": {},
   "outputs": [],
   "source": [
    "df = df[df.Borough != 'Business reply mail']"
   ]
  },
  {
   "cell_type": "markdown",
   "id": "3b0d9f22-7b15-4068-a351-87a9a729bf3d",
   "metadata": {},
   "source": [
    "### Load the Geospatial csv file "
   ]
  },
  {
   "cell_type": "code",
   "execution_count": 427,
   "id": "814d5c4d-faff-4261-9457-c317271ee1ad",
   "metadata": {},
   "outputs": [],
   "source": [
    "df1=pd.read_csv('Geospatial_Coordinates.csv')"
   ]
  },
  {
   "cell_type": "markdown",
   "id": "a73c87a3-9627-4a85-9d68-d578013c0708",
   "metadata": {},
   "source": [
    "### Rename the postal code column name to have the same name in the DataFrame df"
   ]
  },
  {
   "cell_type": "code",
   "execution_count": 428,
   "id": "1107b0df-fc8f-4460-a73c-911540d7118e",
   "metadata": {},
   "outputs": [],
   "source": [
    "df1.rename(columns = {'Postal Code' : 'PostalCode'}, inplace = True)"
   ]
  },
  {
   "cell_type": "markdown",
   "id": "82bd033c-fc06-4803-a61e-b6ab596f82a8",
   "metadata": {},
   "source": [
    "### Merge the postal code DataFrame with the Geospatial DataFrame use 'inner join'"
   ]
  },
  {
   "cell_type": "code",
   "execution_count": 429,
   "id": "f0e9c250-309f-472f-b9cf-4f3273b757a5",
   "metadata": {},
   "outputs": [],
   "source": [
    "df=df.merge(df1, how='inner')"
   ]
  },
  {
   "cell_type": "code",
   "execution_count": 430,
   "id": "da67c3cc-dd93-4975-84c0-0e575c8979e5",
   "metadata": {},
   "outputs": [],
   "source": [
    "df = df[df.Borough != 'Business reply mail']"
   ]
  },
  {
   "cell_type": "code",
   "execution_count": 431,
   "id": "fe736147-2990-41d2-906f-86a8763fb6f4",
   "metadata": {},
   "outputs": [
    {
     "data": {
      "text/html": [
       "<div>\n",
       "<style scoped>\n",
       "    .dataframe tbody tr th:only-of-type {\n",
       "        vertical-align: middle;\n",
       "    }\n",
       "\n",
       "    .dataframe tbody tr th {\n",
       "        vertical-align: top;\n",
       "    }\n",
       "\n",
       "    .dataframe thead th {\n",
       "        text-align: right;\n",
       "    }\n",
       "</style>\n",
       "<table border=\"1\" class=\"dataframe\">\n",
       "  <thead>\n",
       "    <tr style=\"text-align: right;\">\n",
       "      <th></th>\n",
       "      <th>PostalCode</th>\n",
       "      <th>Borough</th>\n",
       "      <th>Neighborhood</th>\n",
       "      <th>Latitude</th>\n",
       "      <th>Longitude</th>\n",
       "    </tr>\n",
       "  </thead>\n",
       "  <tbody>\n",
       "    <tr>\n",
       "      <th>0</th>\n",
       "      <td>M3A</td>\n",
       "      <td>North York</td>\n",
       "      <td>Parkwoods</td>\n",
       "      <td>43.753259</td>\n",
       "      <td>-79.329656</td>\n",
       "    </tr>\n",
       "    <tr>\n",
       "      <th>1</th>\n",
       "      <td>M4A</td>\n",
       "      <td>North York</td>\n",
       "      <td>Victoria Village</td>\n",
       "      <td>43.725882</td>\n",
       "      <td>-79.315572</td>\n",
       "    </tr>\n",
       "    <tr>\n",
       "      <th>2</th>\n",
       "      <td>M5A</td>\n",
       "      <td>Downtown Toronto</td>\n",
       "      <td>Regent Park , Harbourfront</td>\n",
       "      <td>43.654260</td>\n",
       "      <td>-79.360636</td>\n",
       "    </tr>\n",
       "    <tr>\n",
       "      <th>3</th>\n",
       "      <td>M6A</td>\n",
       "      <td>North York</td>\n",
       "      <td>Lawrence Manor , Lawrence Heights</td>\n",
       "      <td>43.718518</td>\n",
       "      <td>-79.464763</td>\n",
       "    </tr>\n",
       "    <tr>\n",
       "      <th>4</th>\n",
       "      <td>M7A</td>\n",
       "      <td>Queen's Park</td>\n",
       "      <td>Ontario Provincial Government</td>\n",
       "      <td>43.662301</td>\n",
       "      <td>-79.389494</td>\n",
       "    </tr>\n",
       "  </tbody>\n",
       "</table>\n",
       "</div>"
      ],
      "text/plain": [
       "  PostalCode           Borough                       Neighborhood   Latitude  \\\n",
       "0        M3A        North York                          Parkwoods  43.753259   \n",
       "1        M4A        North York                   Victoria Village  43.725882   \n",
       "2        M5A  Downtown Toronto         Regent Park , Harbourfront  43.654260   \n",
       "3        M6A        North York  Lawrence Manor , Lawrence Heights  43.718518   \n",
       "4        M7A      Queen's Park      Ontario Provincial Government  43.662301   \n",
       "\n",
       "   Longitude  \n",
       "0 -79.329656  \n",
       "1 -79.315572  \n",
       "2 -79.360636  \n",
       "3 -79.464763  \n",
       "4 -79.389494  "
      ]
     },
     "execution_count": 431,
     "metadata": {},
     "output_type": "execute_result"
    }
   ],
   "source": [
    "df.head()"
   ]
  },
  {
   "cell_type": "markdown",
   "id": "72890b71-a6b4-42a1-96bb-a768bf0214e3",
   "metadata": {},
   "source": [
    "### Save Result DataFrame into a CSV file"
   ]
  },
  {
   "cell_type": "code",
   "execution_count": 432,
   "id": "9f56f475-7832-4598-ae3c-bb076db97e54",
   "metadata": {},
   "outputs": [],
   "source": [
    "df.to_csv('postalcode.csv',index=False)"
   ]
  }
 ],
 "metadata": {
  "kernelspec": {
   "display_name": "Python 3",
   "language": "python",
   "name": "python3"
  },
  "language_info": {
   "codemirror_mode": {
    "name": "ipython",
    "version": 3
   },
   "file_extension": ".py",
   "mimetype": "text/x-python",
   "name": "python",
   "nbconvert_exporter": "python",
   "pygments_lexer": "ipython3",
   "version": "3.8.8"
  }
 },
 "nbformat": 4,
 "nbformat_minor": 5
}
